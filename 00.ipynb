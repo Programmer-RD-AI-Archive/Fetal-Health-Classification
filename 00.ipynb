{
 "cells": [
  {
   "cell_type": "code",
   "execution_count": 1,
   "id": "2447a64e-7834-4a4b-8fdc-d0dccc058e86",
   "metadata": {},
   "outputs": [],
   "source": [
    "import wandb\n",
    "import os\n",
    "import numpy as np\n",
    "import pandas as pd\n",
    "import seaborn as sns\n",
    "import matplotlib.pyplot as plt\n",
    "from sklearn.model_selection import *\n",
    "from sklearn.metrics import *\n",
    "from sklearn.preprocessing import (\n",
    "    StandardScaler,\n",
    "    RobustScaler,\n",
    "    MinMaxScaler,\n",
    "    MaxAbsScaler,\n",
    "    OneHotEncoder,\n",
    "    LabelEncoder,\n",
    "    Normalizer,\n",
    ")\n",
    "from sklearn.model_selection import cross_val_score,train_test_split\n",
    "from sklearn.neighbors import KNeighborsClassifier\n",
    "from sklearn.linear_model import LogisticRegression,LogisticRegressionCV,RidgeClassifier,RidgeClassifierCV\n",
    "from sklearn.naive_bayes import GaussianNB\n",
    "from sklearn.tree import DecisionTreeClassifier\n",
    "from sklearn.ensemble import GradientBoostingClassifier,AdaBoostClassifier,VotingClassifier,BaggingClassifier,RandomForestClassifier\n",
    "from sklearn.svm import SVC\n",
    "from xgboost import XGBClassifier,XGBRFClassifier\n",
    "from catboost import CatBoostClassifier,CatBoost\n",
    "from sklearn.ensemble import BaggingClassifier\n",
    "from sklearn.ensemble import ExtraTreesClassifier\n",
    "np.random.seed(42)"
   ]
  },
  {
   "cell_type": "code",
   "execution_count": 2,
   "id": "bf83ba5f-8ead-4a70-972a-43a7e1f13726",
   "metadata": {},
   "outputs": [],
   "source": [
    "data = pd.read_csv('./data.csv')"
   ]
  },
  {
   "cell_type": "code",
   "execution_count": 3,
   "id": "190aeb24-b71e-41b1-86a1-23e972fe6271",
   "metadata": {},
   "outputs": [],
   "source": [
    "X = data.drop('fetal_health',axis=1)\n",
    "y = data['fetal_health']"
   ]
  },
  {
   "cell_type": "code",
   "execution_count": 4,
   "id": "0a1e5cb9-8e92-41de-aa8e-dcf54ad0ed48",
   "metadata": {},
   "outputs": [],
   "source": [
    "X_train,X_test,y_train,y_test = train_test_split(X,y,test_size=0.25)"
   ]
  },
  {
   "cell_type": "code",
   "execution_count": 5,
   "id": "dc61893f-b56f-4431-b341-8b933a83d6bf",
   "metadata": {},
   "outputs": [],
   "source": [
    "PROJECT_NAME = 'Fetal-Health-Clf'"
   ]
  },
  {
   "cell_type": "code",
   "execution_count": 6,
   "id": "9626e970-d55e-440d-8a13-9678354832dc",
   "metadata": {},
   "outputs": [],
   "source": [
    "def valid(model,X,y,val=False):\n",
    "    preds = model.predict(X)\n",
    "    if val is True:\n",
    "        results = {\n",
    "        'Val Accuracy':accuracy_score(y,preds),\n",
    "        'Val Precision':precision_score(y,preds,average='macro'),\n",
    "        'Val F1 Score':f1_score(y,preds,average='macro'),\n",
    "        'Val Recall':recall_score(y,preds,average='macro')\n",
    "        }\n",
    "    else:\n",
    "        results = {\n",
    "            'Accuracy':accuracy_score(y,preds),\n",
    "            'Macro Precision':precision_score(y,preds,average='macro'),\n",
    "            'F1 Score':f1_score(y,preds,average='macro'),\n",
    "            'Recall':recall_score(y,preds,average='macro')\n",
    "        }\n",
    "    return results\n",
    "def fit(model,X_train,X_test,y_train,y_test,name):\n",
    "    print(len(X_train.columns))\n",
    "    wandb.init(project=PROJECT_NAME,name=name)\n",
    "    model = model()\n",
    "    model.fit(X_train,y_train)\n",
    "    wandb.log(valid(model,X_train,y_train))\n",
    "    wandb.log(valid(model,X_test,y_test,True))\n",
    "    wandb.sklearn.plot_calibration_curve(model, X, y, name)\n",
    "    wandb.finish()"
   ]
  },
  {
   "cell_type": "code",
   "execution_count": 8,
   "id": "7036e1b9-f2ff-4b1d-bc34-fa41363d4203",
   "metadata": {},
   "outputs": [],
   "source": [
    "# fit(KNeighborsClassifier,X_train,X_test,y_train,y_test,'baseline')"
   ]
  },
  {
   "cell_type": "code",
   "execution_count": 9,
   "id": "aae793fd-9da1-4339-913d-70cda6f2440b",
   "metadata": {},
   "outputs": [],
   "source": [
    "def fe(data,col):\n",
    "    max_num = data[col].quantile(0.95)\n",
    "    min_num  = data[col].quantile(0.05)\n",
    "    data = data[data[col] < max_num]\n",
    "    data = data[data[col] > min_num]\n",
    "    return data"
   ]
  },
  {
   "cell_type": "code",
   "execution_count": null,
   "id": "d4ab0e65-5884-4598-b083-0709898c339d",
   "metadata": {},
   "outputs": [],
   "source": [
    "for col list(X.columns):\n",
    "    new_data = fe(X,col)"
   ]
  }
 ],
 "metadata": {
  "kernelspec": {
   "display_name": "Python 3.7.3 64-bit ('base': conda)",
   "language": "python",
   "name": "python373jvsc74a57bd0210f9608a45c0278a93c9e0b10db32a427986ab48cfc0d20c139811eb78c4bbc"
  },
  "language_info": {
   "codemirror_mode": {
    "name": "ipython",
    "version": 3
   },
   "file_extension": ".py",
   "mimetype": "text/x-python",
   "name": "python",
   "nbconvert_exporter": "python",
   "pygments_lexer": "ipython3",
   "version": "3.7.7"
  }
 },
 "nbformat": 4,
 "nbformat_minor": 5
}
