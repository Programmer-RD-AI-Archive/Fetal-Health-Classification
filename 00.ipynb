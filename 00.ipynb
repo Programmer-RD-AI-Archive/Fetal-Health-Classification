{
 "cells": [
  {
   "cell_type": "code",
   "execution_count": 1,
   "id": "2447a64e-7834-4a4b-8fdc-d0dccc058e86",
   "metadata": {},
   "outputs": [],
   "source": [
    "import wandb\n",
    "import os\n",
    "import numpy as np\n",
    "import pandas as pd\n",
    "import seaborn as sns\n",
    "import matplotlib.pyplot as plt\n",
    "from sklearn.model_selection import *\n",
    "from sklearn.metrics import *\n",
    "from sklearn.preprocessing import (\n",
    "    StandardScaler,\n",
    "    RobustScaler,\n",
    "    MinMaxScaler,\n",
    "    MaxAbsScaler,\n",
    "    OneHotEncoder,\n",
    "    LabelEncoder,\n",
    "    Normalizer,\n",
    ")\n",
    "from sklearn.model_selection import cross_val_score,train_test_split\n",
    "from sklearn.neighbors import KNeighborsClassifier\n",
    "from sklearn.linear_model import LogisticRegression,LogisticRegressionCV,RidgeClassifier,RidgeClassifierCV\n",
    "from sklearn.naive_bayes import GaussianNB\n",
    "from sklearn.tree import DecisionTreeClassifier\n",
    "from sklearn.ensemble import GradientBoostingClassifier,AdaBoostClassifier,VotingClassifier,BaggingClassifier,RandomForestClassifier\n",
    "from sklearn.svm import SVC\n",
    "from xgboost import XGBClassifier,XGBRFClassifier\n",
    "from catboost import CatBoostClassifier,CatBoost\n",
    "from sklearn.ensemble import BaggingClassifier\n",
    "from sklearn.ensemble import ExtraTreesClassifier\n",
    "np.random.seed(42)"
   ]
  },
  {
   "cell_type": "code",
   "execution_count": 2,
   "id": "bf83ba5f-8ead-4a70-972a-43a7e1f13726",
   "metadata": {},
   "outputs": [],
   "source": [
    "data = pd.read_csv('./data.csv')"
   ]
  },
  {
   "cell_type": "code",
   "execution_count": 3,
   "id": "190aeb24-b71e-41b1-86a1-23e972fe6271",
   "metadata": {},
   "outputs": [],
   "source": [
    "X = data.drop('fetal_health',axis=1)\n",
    "y = data['fetal_health']"
   ]
  },
  {
   "cell_type": "code",
   "execution_count": 4,
   "id": "0a1e5cb9-8e92-41de-aa8e-dcf54ad0ed48",
   "metadata": {},
   "outputs": [],
   "source": [
    "X_train,X_test,y_train,y_test = train_test_split(X,y,test_size=0.25)"
   ]
  },
  {
   "cell_type": "code",
   "execution_count": 5,
   "id": "dc61893f-b56f-4431-b341-8b933a83d6bf",
   "metadata": {},
   "outputs": [],
   "source": [
    "PROJECT_NAME = 'Fetal-Health-Clf'"
   ]
  },
  {
   "cell_type": "code",
   "execution_count": 6,
   "id": "9626e970-d55e-440d-8a13-9678354832dc",
   "metadata": {},
   "outputs": [],
   "source": [
    "def valid(model,X,y,val=False):\n",
    "    preds = model.predict(X)\n",
    "    if val is True:\n",
    "        results = {\n",
    "        'Val Accuracy':accuracy_score(y,preds),\n",
    "        'Val Precision':precision_score(y,preds,average='macro'),\n",
    "        'Val F1 Score':f1_score(y,preds,average='macro'),\n",
    "        'Val Recall':recall_score(y,preds,average='macro')\n",
    "        }\n",
    "    else:\n",
    "        results = {\n",
    "            'Accuracy':accuracy_score(y,preds),\n",
    "            'Macro Precision':precision_score(y,preds,average='macro'),\n",
    "            'F1 Score':f1_score(y,preds,average='macro'),\n",
    "            'Recall':recall_score(y,preds,average='macro')\n",
    "        }\n",
    "    return results\n",
    "def fit(model,X_train,X_test,y_train,y_test,name):\n",
    "    wandb.init(project=PROJECT_NAME,name=name)\n",
    "    try:\n",
    "        model = model()\n",
    "    except:\n",
    "        model = model\n",
    "    model.fit(X_train,y_train)\n",
    "    wandb.log(valid(model,X_train,y_train))\n",
    "    wandb.log(valid(model,X_test,y_test,True))\n",
    "    wandb.sklearn.plot_calibration_curve(model, X, y, name)\n",
    "    wandb.finish()\n",
    "    return model"
   ]
  },
  {
   "cell_type": "code",
   "execution_count": 7,
   "id": "7036e1b9-f2ff-4b1d-bc34-fa41363d4203",
   "metadata": {},
   "outputs": [],
   "source": [
    "# fit(KNeighborsClassifier,X_train,X_test,y_train,y_test,'baseline')"
   ]
  },
  {
   "cell_type": "code",
   "execution_count": 8,
   "id": "aae793fd-9da1-4339-913d-70cda6f2440b",
   "metadata": {},
   "outputs": [],
   "source": [
    "def fe(data,col):\n",
    "    max_num = data[col].quantile(0.95)\n",
    "    min_num  = data[col].quantile(0.05)\n",
    "    data = data[data[col] < max_num]\n",
    "    data = data[data[col] > min_num]\n",
    "    return data"
   ]
  },
  {
   "cell_type": "code",
   "execution_count": 9,
   "id": "d4ab0e65-5884-4598-b083-0709898c339d",
   "metadata": {},
   "outputs": [],
   "source": [
    "for col in list(['accelerations']):\n",
    "    data = fe(data,col)\n",
    "X = data.drop('fetal_health',axis=1)\n",
    "y = data['fetal_health']\n",
    "X_train,X_test,y_train,y_test = train_test_split(X,y,test_size=0.25)"
   ]
  },
  {
   "cell_type": "code",
   "execution_count": 10,
   "id": "9582aa9c-a29e-4d4f-832c-dcce7c3dd9b1",
   "metadata": {},
   "outputs": [],
   "source": [
    "# fit(KNeighborsClassifier,X_train,X_test,y_train,y_test,'baseline')"
   ]
  },
  {
   "cell_type": "code",
   "execution_count": 11,
   "id": "64fd5dbb-fa5a-4327-bb14-1453607231d5",
   "metadata": {},
   "outputs": [],
   "source": [
    "# pres = [StandardScaler(),RobustScaler(),MinMaxScaler(),MaxAbsScaler(),OneHotEncoder(),Normalizer()]\n",
    "# for pre in pres:\n",
    "#     X = data.drop('fetal_health',axis=1)\n",
    "#     y = data['fetal_health']\n",
    "#     X_train,X_test,y_train,y_test = train_test_split(X,y,test_size=0.25)\n",
    "#     pre = pre\n",
    "#     X_train = pre.fit_transform(X_train)\n",
    "#     X_test = pre.transform(X_test)\n",
    "#     fit(KNeighborsClassifier,X_train,X_test,y_train,y_test,f'{pre}-pre')"
   ]
  },
  {
   "cell_type": "code",
   "execution_count": 12,
   "id": "d69718a8-9669-4271-8ac9-443e37cfb106",
   "metadata": {},
   "outputs": [],
   "source": [
    "pre = MinMaxScaler()\n",
    "X = data.drop('fetal_health',axis=1)\n",
    "y = data['fetal_health']\n",
    "X_train,X_test,y_train,y_test = train_test_split(X,y,test_size=0.25)\n",
    "\n",
    "\n",
    "X_train = pre.fit_transform(X_train)\n",
    "X_test = pre.transform(X_test)"
   ]
  },
  {
   "cell_type": "code",
   "execution_count": 13,
   "id": "7c90724c-8c0b-42d9-a5ac-bfba318fd76a",
   "metadata": {},
   "outputs": [],
   "source": [
    "# fit(KNeighborsClassifier,X_train,X_test,y_train,y_test,'baseline')"
   ]
  },
  {
   "cell_type": "code",
   "execution_count": 14,
   "id": "5693b312-9ae4-4a92-993c-33ff75d6d693",
   "metadata": {},
   "outputs": [],
   "source": [
    "models = [\n",
    "    ['KNeighborsClassifier',KNeighborsClassifier],\n",
    "    ['LogisticRegression',LogisticRegression],\n",
    "    ['LogisticRegressionCV',LogisticRegressionCV],\n",
    "    ['RidgeClassifier',RidgeClassifier],\n",
    "    ['RidgeClassifierCV',RidgeClassifierCV],\n",
    "    ['GaussianNB',GaussianNB],\n",
    "    ['DecisionTreeClassifier',DecisionTreeClassifier],\n",
    "    ['GradientBoostingClassifier',GradientBoostingClassifier],\n",
    "    ['AdaBoostClassifier',AdaBoostClassifier],\n",
    "    ['RandomForestClassifier',RandomForestClassifier],\n",
    "    ['BaggingClassifier',BaggingClassifier],\n",
    "    ['SVC',SVC],\n",
    "    ['XGBClassifier',XGBClassifier],\n",
    "    ['XGBRFClassifier',XGBRFClassifier],\n",
    "    ['CatBoostClassifier',CatBoostClassifier],\n",
    "]"
   ]
  },
  {
   "cell_type": "code",
   "execution_count": 15,
   "id": "b30855cf-432a-4e83-b75d-395c565a6e8d",
   "metadata": {},
   "outputs": [],
   "source": [
    "# fit(BaggingClassifier,X_train,X_test,y_train,y_test,'baseline')"
   ]
  },
  {
   "cell_type": "code",
   "execution_count": 16,
   "id": "ae9958f3-50e1-432d-b51f-22f6ef0cab78",
   "metadata": {},
   "outputs": [],
   "source": [
    "# parm_grid = {\n",
    "#     'n_estimators':[12,25,10,50,100,125,250,500,1000],\n",
    "#     'oob_score':[False,True],\n",
    "#     'warm_start':[False,True]\n",
    "# }\n",
    "# model = GridSearchCV(BaggingClassifier(),verbose=1,cv=2,param_grid=parm_grid)\n",
    "# model = fit(model,X_train,X_test,y_train,y_test,'GridSearch')"
   ]
  },
  {
   "cell_type": "code",
   "execution_count": 17,
   "id": "92e21587-07b2-4b83-8383-da8a428a403f",
   "metadata": {},
   "outputs": [],
   "source": [
    "# model.best_params_"
   ]
  },
  {
   "cell_type": "code",
   "execution_count": 18,
   "id": "880a49c0-e133-442c-8454-5f20d30c63ae",
   "metadata": {},
   "outputs": [
    {
     "name": "stderr",
     "output_type": "stream",
     "text": [
      "\u001b[34m\u001b[1mwandb\u001b[0m: Currently logged in as: \u001b[33mranuga-d\u001b[0m (use `wandb login --relogin` to force relogin)\n",
      "\u001b[34m\u001b[1mwandb\u001b[0m: wandb version 0.11.2 is available!  To upgrade, please run:\n",
      "\u001b[34m\u001b[1mwandb\u001b[0m:  $ pip install wandb --upgrade\n"
     ]
    },
    {
     "data": {
      "text/html": [
       "\n",
       "                Tracking run with wandb version 0.10.33<br/>\n",
       "                Syncing run <strong style=\"color:#cdcd00\">Final</strong> to <a href=\"https://wandb.ai\" target=\"_blank\">Weights & Biases</a> <a href=\"https://docs.wandb.com/integrations/jupyter.html\" target=\"_blank\">(Documentation)</a>.<br/>\n",
       "                Project page: <a href=\"https://wandb.ai/ranuga-d/Fetal-Health-Clf\" target=\"_blank\">https://wandb.ai/ranuga-d/Fetal-Health-Clf</a><br/>\n",
       "                Run page: <a href=\"https://wandb.ai/ranuga-d/Fetal-Health-Clf/runs/15ojgvna\" target=\"_blank\">https://wandb.ai/ranuga-d/Fetal-Health-Clf/runs/15ojgvna</a><br/>\n",
       "                Run data is saved locally in <code>/home/indika/Programming/Projects/Python/Artifical-Intelligence/Sklearn/Classification/Fetal-Health-Classification/wandb/run-20210809_101414-15ojgvna</code><br/><br/>\n",
       "            "
      ],
      "text/plain": [
       "<IPython.core.display.HTML object>"
      ]
     },
     "metadata": {},
     "output_type": "display_data"
    },
    {
     "data": {
      "text/html": [
       "<br/>Waiting for W&B process to finish, PID 150210<br/>Program ended successfully."
      ],
      "text/plain": [
       "<IPython.core.display.HTML object>"
      ]
     },
     "metadata": {},
     "output_type": "display_data"
    },
    {
     "data": {
      "application/vnd.jupyter.widget-view+json": {
       "model_id": "",
       "version_major": 2,
       "version_minor": 0
      },
      "text/plain": [
       "VBox(children=(Label(value=' 0.03MB of 0.03MB uploaded (0.00MB deduped)\\r'), FloatProgress(value=1.0, max=1.0)…"
      ]
     },
     "metadata": {},
     "output_type": "display_data"
    },
    {
     "data": {
      "text/html": [
       "Find user logs for this run at: <code>/home/indika/Programming/Projects/Python/Artifical-Intelligence/Sklearn/Classification/Fetal-Health-Classification/wandb/run-20210809_101414-15ojgvna/logs/debug.log</code>"
      ],
      "text/plain": [
       "<IPython.core.display.HTML object>"
      ]
     },
     "metadata": {},
     "output_type": "display_data"
    },
    {
     "data": {
      "text/html": [
       "Find internal logs for this run at: <code>/home/indika/Programming/Projects/Python/Artifical-Intelligence/Sklearn/Classification/Fetal-Health-Classification/wandb/run-20210809_101414-15ojgvna/logs/debug-internal.log</code>"
      ],
      "text/plain": [
       "<IPython.core.display.HTML object>"
      ]
     },
     "metadata": {},
     "output_type": "display_data"
    },
    {
     "data": {
      "text/html": [
       "<h3>Run summary:</h3><br/><style>\n",
       "    table.wandb td:nth-child(1) { padding: 0 10px; text-align: right }\n",
       "    </style><table class=\"wandb\">\n",
       "<tr><td>Accuracy</td><td>0.99518</td></tr><tr><td>Macro Precision</td><td>0.99828</td></tr><tr><td>F1 Score</td><td>0.98009</td></tr><tr><td>Recall</td><td>0.96396</td></tr><tr><td>_runtime</td><td>10</td></tr><tr><td>_timestamp</td><td>1628484264</td></tr><tr><td>_step</td><td>2</td></tr><tr><td>Val Accuracy</td><td>0.96751</td></tr><tr><td>Val Precision</td><td>0.82463</td></tr><tr><td>Val F1 Score</td><td>0.71719</td></tr><tr><td>Val Recall</td><td>0.68391</td></tr></table>"
      ],
      "text/plain": [
       "<IPython.core.display.HTML object>"
      ]
     },
     "metadata": {},
     "output_type": "display_data"
    },
    {
     "data": {
      "text/html": [
       "<h3>Run history:</h3><br/><style>\n",
       "    table.wandb td:nth-child(1) { padding: 0 10px; text-align: right }\n",
       "    </style><table class=\"wandb\">\n",
       "<tr><td>Accuracy</td><td>▁</td></tr><tr><td>Macro Precision</td><td>▁</td></tr><tr><td>F1 Score</td><td>▁</td></tr><tr><td>Recall</td><td>▁</td></tr><tr><td>_runtime</td><td>▁▁█</td></tr><tr><td>_timestamp</td><td>▁▁█</td></tr><tr><td>_step</td><td>▁▅█</td></tr><tr><td>Val Accuracy</td><td>▁</td></tr><tr><td>Val Precision</td><td>▁</td></tr><tr><td>Val F1 Score</td><td>▁</td></tr><tr><td>Val Recall</td><td>▁</td></tr></table><br/>"
      ],
      "text/plain": [
       "<IPython.core.display.HTML object>"
      ]
     },
     "metadata": {},
     "output_type": "display_data"
    },
    {
     "data": {
      "text/html": [
       "Synced 5 W&B file(s), 1 media file(s), 3 artifact file(s) and 1 other file(s)"
      ],
      "text/plain": [
       "<IPython.core.display.HTML object>"
      ]
     },
     "metadata": {},
     "output_type": "display_data"
    },
    {
     "data": {
      "text/html": [
       "\n",
       "                    <br/>Synced <strong style=\"color:#cdcd00\">Final</strong>: <a href=\"https://wandb.ai/ranuga-d/Fetal-Health-Clf/runs/15ojgvna\" target=\"_blank\">https://wandb.ai/ranuga-d/Fetal-Health-Clf/runs/15ojgvna</a><br/>\n",
       "                "
      ],
      "text/plain": [
       "<IPython.core.display.HTML object>"
      ]
     },
     "metadata": {},
     "output_type": "display_data"
    }
   ],
   "source": [
    "model = BaggingClassifier()\n",
    "model = fit(model,X_train,X_test,y_train,y_test,'Final')\n",
    "import pickle\n",
    "pickle.dump(model,open('./model.pkl','wb'))"
   ]
  },
  {
   "cell_type": "code",
   "execution_count": null,
   "id": "9c5158aa-23b7-4465-a56a-635b50de570b",
   "metadata": {},
   "outputs": [],
   "source": []
  },
  {
   "cell_type": "code",
   "execution_count": null,
   "id": "14c6e10a-fd2d-4619-98f7-53737c37f31f",
   "metadata": {},
   "outputs": [],
   "source": []
  },
  {
   "cell_type": "code",
   "execution_count": null,
   "id": "9d44eaee-d1f2-4eb7-87b3-02836c930042",
   "metadata": {},
   "outputs": [],
   "source": []
  },
  {
   "cell_type": "code",
   "execution_count": null,
   "id": "58174f34-1f0f-4568-b08e-b5d209f2343b",
   "metadata": {},
   "outputs": [],
   "source": []
  },
  {
   "cell_type": "code",
   "execution_count": null,
   "id": "b26d7f87-67c2-448e-a394-92ae687e8896",
   "metadata": {},
   "outputs": [],
   "source": []
  },
  {
   "cell_type": "code",
   "execution_count": null,
   "id": "8ca56d73-6e62-4812-aafd-7d64843bbfc7",
   "metadata": {},
   "outputs": [],
   "source": []
  }
 ],
 "metadata": {
  "kernelspec": {
   "display_name": "Python 3.7.3 64-bit ('base': conda)",
   "language": "python",
   "name": "python373jvsc74a57bd0210f9608a45c0278a93c9e0b10db32a427986ab48cfc0d20c139811eb78c4bbc"
  },
  "language_info": {
   "codemirror_mode": {
    "name": "ipython",
    "version": 3
   },
   "file_extension": ".py",
   "mimetype": "text/x-python",
   "name": "python",
   "nbconvert_exporter": "python",
   "pygments_lexer": "ipython3",
   "version": "3.7.7"
  }
 },
 "nbformat": 4,
 "nbformat_minor": 5
}
